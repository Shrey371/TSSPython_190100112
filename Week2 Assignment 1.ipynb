{
 "cells": [
  {
   "cell_type": "code",
   "execution_count": 1,
   "id": "d51b9174",
   "metadata": {},
   "outputs": [],
   "source": [
    "#Importing Required Libraries\n",
    "import pandas as pd\n",
    "import numpy as np\n",
    "import datetime\n",
    "import matplotlib.pyplot as plt\n",
    "import seaborn as sns\n",
    "\n",
    "#Declaring the Hyperparameters\n",
    "\n",
    "N = 50\n",
    "T = 7\n",
    "R = 0.8\n",
    "M = 5"
   ]
  },
  {
   "cell_type": "code",
   "execution_count": 14,
   "id": "573b2d8d",
   "metadata": {},
   "outputs": [
    {
     "data": {
      "text/html": [
       "<div>\n",
       "<style scoped>\n",
       "    .dataframe tbody tr th:only-of-type {\n",
       "        vertical-align: middle;\n",
       "    }\n",
       "\n",
       "    .dataframe tbody tr th {\n",
       "        vertical-align: top;\n",
       "    }\n",
       "\n",
       "    .dataframe thead th {\n",
       "        text-align: right;\n",
       "    }\n",
       "</style>\n",
       "<table border=\"1\" class=\"dataframe\">\n",
       "  <thead>\n",
       "    <tr style=\"text-align: right;\">\n",
       "      <th></th>\n",
       "      <th>ind</th>\n",
       "      <th>datadate</th>\n",
       "      <th>tic</th>\n",
       "      <th>adjcp</th>\n",
       "      <th>open</th>\n",
       "    </tr>\n",
       "  </thead>\n",
       "  <tbody>\n",
       "    <tr>\n",
       "      <th>0</th>\n",
       "      <td>0</td>\n",
       "      <td>20090102</td>\n",
       "      <td>AAPL</td>\n",
       "      <td>12.964286</td>\n",
       "      <td>12.268571</td>\n",
       "    </tr>\n",
       "    <tr>\n",
       "      <th>1</th>\n",
       "      <td>1</td>\n",
       "      <td>20090102</td>\n",
       "      <td>AXP</td>\n",
       "      <td>19.330000</td>\n",
       "      <td>18.570000</td>\n",
       "    </tr>\n",
       "    <tr>\n",
       "      <th>2</th>\n",
       "      <td>2</td>\n",
       "      <td>20090102</td>\n",
       "      <td>BA</td>\n",
       "      <td>45.250000</td>\n",
       "      <td>42.800000</td>\n",
       "    </tr>\n",
       "    <tr>\n",
       "      <th>3</th>\n",
       "      <td>3</td>\n",
       "      <td>20090102</td>\n",
       "      <td>CAT</td>\n",
       "      <td>46.910000</td>\n",
       "      <td>44.910000</td>\n",
       "    </tr>\n",
       "    <tr>\n",
       "      <th>4</th>\n",
       "      <td>4</td>\n",
       "      <td>20090102</td>\n",
       "      <td>CSCO</td>\n",
       "      <td>16.960000</td>\n",
       "      <td>16.410000</td>\n",
       "    </tr>\n",
       "  </tbody>\n",
       "</table>\n",
       "</div>"
      ],
      "text/plain": [
       "   ind  datadate   tic      adjcp       open\n",
       "0    0  20090102  AAPL  12.964286  12.268571\n",
       "1    1  20090102   AXP  19.330000  18.570000\n",
       "2    2  20090102    BA  45.250000  42.800000\n",
       "3    3  20090102   CAT  46.910000  44.910000\n",
       "4    4  20090102  CSCO  16.960000  16.410000"
      ]
     },
     "execution_count": 14,
     "metadata": {},
     "output_type": "execute_result"
    }
   ],
   "source": [
    "data = pd.read_csv('DATA.csv',usecols = [0,1,2,3,4])\n",
    "data.head()"
   ]
  },
  {
   "cell_type": "code",
   "execution_count": 19,
   "id": "aca7dac9",
   "metadata": {},
   "outputs": [
    {
     "name": "stdout",
     "output_type": "stream",
     "text": [
      "3\n"
     ]
    }
   ],
   "source": [
    "index = pd.Series(data['ind'])\n",
    "print(index.iloc[3])"
   ]
  },
  {
   "cell_type": "code",
   "execution_count": 15,
   "id": "5b9e3604",
   "metadata": {},
   "outputs": [],
   "source": [
    "def GetData(DATA):\n",
    "  #START CODE HERE\n",
    "  Data = pd.read_csv('DATA.csv',usecols = [0,1,2,3,4])\n",
    "\n",
    "\n",
    "\n",
    "  return Data  # pd.DataFrame Object"
   ]
  },
  {
   "cell_type": "code",
   "execution_count": 23,
   "id": "76a2ac45",
   "metadata": {},
   "outputs": [],
   "source": [
    "def PartitionData(Data):\n",
    "    \n",
    "    DateToIndex = {}\n",
    "    Date = []\n",
    "    index = pd.Series(Data['ind'])\n",
    "    date = pd.Series(Data['datadate'])\n",
    "    i,j=0,0\n",
    "    while(i<len(index)):\n",
    "        Date.extend(Data.iloc[i:i+30])\n",
    "        DateToIndex[date.iloc[i]] = Date[j]\n",
    "        i = i+30\n",
    "        j = j+1\n",
    "\n",
    "    return Date, DateToIndex    # List containing of the Data Partitioned according to Date, and the Dictionary mapping Dates to their index in the list"
   ]
  },
  {
   "cell_type": "code",
   "execution_count": null,
   "id": "ce3f67c5",
   "metadata": {},
   "outputs": [],
   "source": [
    "def GetMomentumBasedPriority(PartitionedDataFrameList, DateToIndex ,today):\n",
    "  # PartitionedDataFrameList : Pandas DataFrame, The Output of your last function\n",
    "  # DateToIndex : Dictionary mapping dates to their index in the PartitionedDataFrameList\n",
    "  # today :  Today's date (string) In Format: YYYYMMDD\n",
    "\n",
    "\n",
    "  #NdaysAgo is a datatime.date() object contining the required data, you need to convert it to a string and then check if its\n",
    "  #actually there in the Data you have or will you have to get going using some other nearest date\n",
    "\n",
    "  NdaysAgo = datetime.date(int(today[0:4]),int(today[4:6]),int(today[6:])) + datetime.timedelta(days = -N)\n",
    "\n",
    "  #START CODE HERE!\n",
    "\n",
    "\n",
    "\n",
    "\n",
    "\n",
    "\n",
    "\n",
    "\n",
    "  return ______________________________   #Numpy Array containing the Momentum divided by mean(in the N-day period considered) of all the 30 tickers, in the required order."
   ]
  },
  {
   "cell_type": "code",
   "execution_count": null,
   "id": "a789283f",
   "metadata": {},
   "outputs": [],
   "source": [
    "def GetBalanced(prices, weights,balance):\n",
    "  # prices : Numpy array containing Prices of all the 30 Stocks\n",
    "  # weights : Multi-hot Numpy Array : The Elements corresponding to stocks which are to be bought(Top M Stocks with positive Momentum Indicator) are set to their priority, All other elements are set to zero.\n",
    "  # Returns Numpy array containing the number of shares to buy for each stock!"
   ]
  },
  {
   "cell_type": "code",
   "execution_count": null,
   "id": "5b4928d3",
   "metadata": {},
   "outputs": [],
   "source": [
    "class PortFolio:\n",
    "  def __init__(__________):\n",
    "\n",
    "\n",
    "  def SellStock(index)\n",
    "  #index : The index of the Stock to sell (0-29)\n",
    "  \n",
    "  def BuyStock(index, number):\n",
    "  #index : The index of the Stock to buy (0-29) \n",
    "  #number : Number of shares to buy (float)\n",
    "\n",
    "  def CalculateNetWorth():\n",
    "  #Return Net Worth (All Shares' costs+ Balance)\n",
    "\n",
    "\n",
    "\n",
    "  def ChangePricesTo(newPriceVector):\n",
    "  # newPriceVector : Numpy array containing the prices of all the stocks for the current day\n",
    "\n",
    "\n",
    "  def RebalancePortFolio(newWeights):  \n",
    "    # newWeights : Numpy array containing Momentum/Mean for all stocks in the N-day period\n",
    "    # First sell all your pre-owned Stock (make sure to take transaction fee into account!)\n",
    "    # This would change your total balance\n",
    "    # Then take the top M(/might be less than M, if >(30-M) had negative Momentum) and send them to the GetBalanced() Function\n",
    "    # Then take that output and pass them to the BuyStocks function!"
   ]
  },
  {
   "cell_type": "code",
   "execution_count": null,
   "id": "07bd6e59",
   "metadata": {},
   "outputs": [],
   "source": [
    "myPortfolio = PortFolio(________)\n",
    "NetWorthAfterEachTrade = [___]\n",
    "\n",
    "\n",
    "#First Get the Data\n",
    "Data = ______________\n",
    "PartitionedData, DateToIndex= _______________\n",
    "\n",
    "#\n",
    "\n",
    "\n",
    "#Start processing from the (N+1)th Day(among the ones recorded in the Data)\n",
    "for i in range(__________,_________):\n",
    "  # Change the Prices to the ith Term\n",
    "  # Get NetWorth and store in list\n",
    "  # Check if you need to rebalance Portfolio's Today\n",
    "  # If so, do it by Calling first the GetMomentumBasedPriority function and then passing it to the rebalance function"
   ]
  },
  {
   "cell_type": "code",
   "execution_count": null,
   "id": "d8e8cc53",
   "metadata": {},
   "outputs": [],
   "source": [
    "def VizualizeData(________________):"
   ]
  }
 ],
 "metadata": {
  "kernelspec": {
   "display_name": "Python 3",
   "language": "python",
   "name": "python3"
  },
  "language_info": {
   "codemirror_mode": {
    "name": "ipython",
    "version": 3
   },
   "file_extension": ".py",
   "mimetype": "text/x-python",
   "name": "python",
   "nbconvert_exporter": "python",
   "pygments_lexer": "ipython3",
   "version": "3.8.8"
  }
 },
 "nbformat": 4,
 "nbformat_minor": 5
}
